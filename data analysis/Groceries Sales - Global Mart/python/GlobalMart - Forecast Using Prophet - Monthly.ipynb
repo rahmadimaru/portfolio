{
 "cells": [
  {
   "cell_type": "markdown",
   "id": "ea01517a-bd81-47dd-947b-ec987a3dc5f0",
   "metadata": {},
   "source": [
    "# Setup and Config"
   ]
  },
  {
   "cell_type": "code",
   "execution_count": 3,
   "id": "966c3066-97ba-4da7-98b7-b63985beda71",
   "metadata": {},
   "outputs": [],
   "source": [
    "#import packages\n",
    "from sqlalchemy import create_engine\n",
    "from prophet import Prophet\n",
    "from sklearn.metrics import mean_absolute_error, mean_squared_error\n",
    "\n",
    "import pandas as pd\n",
    "import numpy as np\n",
    "import matplotlib.pyplot as plt\n"
   ]
  },
  {
   "cell_type": "code",
   "execution_count": 4,
   "id": "756f05e1-905a-4e19-b1ac-eee6f10e40d8",
   "metadata": {},
   "outputs": [],
   "source": [
    "# Config MySQL credential in localhost\n",
    "user ='root'\n",
    "password ='root'\n",
    "host ='localhost'\n",
    "port = 3306\n",
    "database = 'grocery_sales'\n",
    "\n",
    "# Format connection string SQLAlchemy\n",
    "connection_string = f'mysql+pymysql://{user}:{password}@{host}:{port}/{database}'\n",
    "\n",
    "# Create engine connection\n",
    "engine = create_engine(connection_string)"
   ]
  },
  {
   "cell_type": "markdown",
   "id": "998da94e-e7f5-4752-b773-ab5f04f17e11",
   "metadata": {},
   "source": [
    "# Data Prepartion"
   ]
  },
  {
   "cell_type": "code",
   "execution_count": 6,
   "id": "4dd6362e-1d47-455e-bc4c-c1a3f4aa9705",
   "metadata": {},
   "outputs": [
    {
     "name": "stdout",
     "output_type": "stream",
     "text": [
      "  month_key  total_order  total_revenue  total_discount\n",
      "0   2018-01      1607050  81,676,812.77       48,151.30\n",
      "1   2018-02      1451366  73,711,240.93       43,390.80\n",
      "2   2018-03      1609190  81,830,870.36       48,299.20\n",
      "3   2018-04      1556091  79,098,404.98       46,655.60\n"
     ]
    }
   ],
   "source": [
    "# Query for Monhtly Data\n",
    "monthly_data = \"SELECT * FROM ct_forecast_business_main_metrics_monthly\"\n",
    "\n",
    "# Formatting query result to DataFrame\n",
    "df_monthly = pd.read_sql(monthly_data,con = engine)\n",
    "\n",
    "# Data Preview\n",
    "pd.options.display.float_format = '{:,.2f}'.format #formatting the numbers to be come readable\n",
    "print(df_monthly.head())"
   ]
  },
  {
   "cell_type": "markdown",
   "id": "b9a64492-7fca-4dc7-b623-314d5b5177ca",
   "metadata": {},
   "source": [
    "# Forecasting"
   ]
  },
  {
   "cell_type": "markdown",
   "id": "e708a0df-2552-40df-ba1c-0b5046d641d3",
   "metadata": {},
   "source": [
    "## Forecasting - Monthly"
   ]
  },
  {
   "cell_type": "markdown",
   "id": "e0e6b78f-3dae-414e-a966-3eefa99f1a45",
   "metadata": {},
   "source": [
    "### Forecasting - Monthly - Order"
   ]
  },
  {
   "cell_type": "code",
   "execution_count": 34,
   "id": "9853c742-9c73-4e06-a4c7-f0a3b28e98c2",
   "metadata": {},
   "outputs": [
    {
     "name": "stdout",
     "output_type": "stream",
     "text": [
      "          ds        y  total_revenue  total_discount\n",
      "0 2018-01-01  1607050  81,676,812.77       48,151.30\n",
      "1 2018-02-01  1451366  73,711,240.93       43,390.80\n",
      "2 2018-03-01  1609190  81,830,870.36       48,299.20\n",
      "3 2018-04-01  1556091  79,098,404.98       46,655.60\n",
      "<class 'pandas.core.frame.DataFrame'>\n",
      "RangeIndex: 4 entries, 0 to 3\n",
      "Data columns (total 4 columns):\n",
      " #   Column          Non-Null Count  Dtype         \n",
      "---  ------          --------------  -----         \n",
      " 0   ds              4 non-null      datetime64[ns]\n",
      " 1   y               4 non-null      int64         \n",
      " 2   total_revenue   4 non-null      float64       \n",
      " 3   total_discount  4 non-null      float64       \n",
      "dtypes: datetime64[ns](1), float64(2), int64(1)\n",
      "memory usage: 260.0 bytes\n",
      "None\n"
     ]
    }
   ],
   "source": [
    "# Create series with full format of date 'YYYY-MM-01'\n",
    "df_monthly['ds'] = pd.to_datetime(df_monthly['month_key'].astype(str) + '-01')\n",
    "\n",
    "# Rename total_order to y (Required for Prophet)\n",
    "df_monthly_prophet_order = df_monthly.rename(columns={'total_order': 'y'})\n",
    "\n",
    "# Pilih kolom ds(month_key), y(total_order) , total_revenue , total_discount\n",
    "df_monthly_prophet_order = df_monthly_prophet_order[['ds', 'y', 'total_revenue', 'total_discount']]\n",
    "\n",
    "print(df_monthly_prophet_order.head())\n",
    "print(df_monthly_prophet_order.info())"
   ]
  },
  {
   "cell_type": "code",
   "execution_count": 35,
   "id": "42f4b40e-f711-4dc9-8913-ae12db56fa33",
   "metadata": {},
   "outputs": [
    {
     "name": "stderr",
     "output_type": "stream",
     "text": [
      "18:45:26 - cmdstanpy - INFO - Chain [1] start processing\n",
      "18:45:26 - cmdstanpy - INFO - Chain [1] done processing\n",
      "C:\\Users\\yusuf\\AppData\\Local\\Temp\\ipykernel_6060\\35908192.py:30: FutureWarning: A value is trying to be set on a copy of a DataFrame or Series through chained assignment using an inplace method.\n",
      "The behavior will change in pandas 3.0. This inplace method will never work because the intermediate object on which we are setting values always behaves as a copy.\n",
      "\n",
      "For example, when doing 'df[col].method(value, inplace=True)', try using 'df.method({col: value}, inplace=True)' or df[col] = df[col].method(value) instead, to perform the operation inplace on the original object.\n",
      "\n",
      "\n",
      "  future_monthly_order['total_discount'].fillna(avg_discount, inplace=True)\n"
     ]
    },
    {
     "name": "stdout",
     "output_type": "stream",
     "text": [
      "           ds         yhat   yhat_lower   yhat_upper\n",
      "7  2018-08-01 1,554,757.43 1,547,813.60 1,561,033.73\n",
      "8  2018-09-01 1,554,675.85 1,544,857.51 1,563,786.50\n",
      "9  2018-10-01 1,554,596.90 1,541,456.56 1,566,898.91\n",
      "10 2018-11-01 1,554,515.32 1,537,469.00 1,569,887.82\n",
      "11 2018-12-01 1,554,436.37 1,533,034.30 1,574,103.44\n"
     ]
    },
    {
     "name": "stderr",
     "output_type": "stream",
     "text": [
      "C:\\Users\\yusuf\\AppData\\Local\\Temp\\ipykernel_6060\\35908192.py:40: UserWarning: FigureCanvasAgg is non-interactive, and thus cannot be shown\n",
      "  fig.show()\n"
     ]
    },
    {
     "data": {
      "image/png": "[encoded data removed]",
      "text/plain": [
       "<Figure size 1000x600 with 1 Axes>"
      ]
     },
     "metadata": {},
     "output_type": "display_data"
    }
   ],
   "source": [
    "# create Prophet's Model\n",
    "m_monthly_order = Prophet()\n",
    "\n",
    "# Calculate the period to perform forecasting up to end of year\n",
    "last_date = pd.to_datetime(df_monthly_prophet_order['ds'].max())\n",
    "end_of_year = pd.Timestamp(year=last_date.year,month=12,day=31)\n",
    "forecast_months = (end_of_year.year - last_date.year) * 12 + (end_of_year.month - last_date.month)\n",
    "\n",
    "# Add variable discount as additional regressor\n",
    "m_monthly_order.add_regressor('total_discount')\n",
    "\n",
    "# Fit model to the data\n",
    "m_monthly_order.fit(df_monthly_prophet_order)\n",
    "\n",
    "# Create a dataframe for predicted period in future (e.g 90 day onwards)\n",
    "future_monthly_order = m_monthly_order.make_future_dataframe(periods= forecast_months, freq='MS')\n",
    "\n",
    "# Merge historical additional regressor (discount amount) from training to future dataframe based on 'ds'\n",
    "df_monthly_prophet_order['ds'] = pd.to_datetime(df_monthly_prophet_order['ds'])\n",
    "future_monthly_order['ds'] = pd.to_datetime(future_monthly_order['ds'])\n",
    "\n",
    "future_monthly_order = future_monthly_order.merge(\n",
    "    df_monthly_prophet_order[['ds', 'total_discount']],\n",
    "    on='ds',\n",
    "    how='left'\n",
    ")\n",
    "\n",
    "# In the future data, the data without discount data will be filled as 0\n",
    "avg_discount = df_monthly_prophet_order['total_discount'].mean()\n",
    "future_monthly_order['total_discount'].fillna(avg_discount, inplace=True)\n",
    "\n",
    "# Forecasting\n",
    "future_monthly_order = m_monthly_order.predict(future_monthly_order)\n",
    "\n",
    "# Show the prediction result for few last rows\n",
    "print(future_monthly_order[['ds','yhat','yhat_lower','yhat_upper']].tail())\n",
    "\n",
    "# Visualize the predicted result\n",
    "fig = m_monthly_order.plot(future_monthly_order)\n",
    "fig.show()\n",
    "\n"
   ]
  },
  {
   "cell_type": "markdown",
   "id": "1de19733-9546-4f4d-83c7-e7e352ba033d",
   "metadata": {},
   "source": [
    "### Forecasting - Monthly - Order Evaluation Model"
   ]
  },
  {
   "cell_type": "code",
   "execution_count": 37,
   "id": "e89837a6-29f2-4ca3-a6c2-26503f67c495",
   "metadata": {},
   "outputs": [
    {
     "name": "stdout",
     "output_type": "stream",
     "text": [
      "MAE: 0.45\n",
      "MAPE: 0.00%\n"
     ]
    }
   ],
   "source": [
    "# Parse data to have same data type\n",
    "df_monthly_prophet_order['ds'] = pd.to_datetime(df_monthly_prophet_order['ds'])\n",
    "future_monthly_order['ds'] = pd.to_datetime(future_monthly_order['ds'])\n",
    "\n",
    "# Merge data origin with prediction based on data granurality key\n",
    "df_merged_monthly_order = df_monthly_prophet_order.merge(future_monthly_order[['ds','yhat']], on='ds', how='left')\n",
    "\n",
    "# Only data from origin and prediction that will be included (excluding data for future)\n",
    "df_monthly_order_eval = df_merged_monthly_order[df_merged_monthly_order['yhat'].notnull()]\n",
    "\n",
    "# Calculate MAE\n",
    "mae_monthly_order = mean_absolute_error(df_monthly_order_eval['y'], df_monthly_order_eval['yhat'])\n",
    "print(f'MAE: {mae_monthly_order:.2f}')\n",
    "\n",
    "# Calculate MAPE\n",
    "mape_monthly_revenue = np.mean(np.abs((df_monthly_order_eval['y'] - df_monthly_order_eval['yhat']) / df_monthly_order_eval['y'])) * 100\n",
    "print(f'MAPE: {mape_monthly_revenue:.2f}%')\n"
   ]
  },
  {
   "cell_type": "markdown",
   "id": "8ea7333f-0740-4d3c-a731-41949aa35b6b",
   "metadata": {},
   "source": [
    "### Forecasting - Monthly - Revenue"
   ]
  },
  {
   "cell_type": "code",
   "execution_count": 38,
   "id": "80bffe1c-ee42-486a-83c2-11e7458fdbdb",
   "metadata": {},
   "outputs": [
    {
     "name": "stdout",
     "output_type": "stream",
     "text": [
      "          ds  total_order             y  total_discount\n",
      "0 2018-01-01      1607050 81,676,812.77       48,151.30\n",
      "1 2018-02-01      1451366 73,711,240.93       43,390.80\n",
      "2 2018-03-01      1609190 81,830,870.36       48,299.20\n",
      "3 2018-04-01      1556091 79,098,404.98       46,655.60\n",
      "<class 'pandas.core.frame.DataFrame'>\n",
      "RangeIndex: 4 entries, 0 to 3\n",
      "Data columns (total 4 columns):\n",
      " #   Column          Non-Null Count  Dtype         \n",
      "---  ------          --------------  -----         \n",
      " 0   ds              4 non-null      datetime64[ns]\n",
      " 1   total_order     4 non-null      int64         \n",
      " 2   y               4 non-null      float64       \n",
      " 3   total_discount  4 non-null      float64       \n",
      "dtypes: datetime64[ns](1), float64(2), int64(1)\n",
      "memory usage: 260.0 bytes\n",
      "None\n"
     ]
    }
   ],
   "source": [
    "# Create series with full format of date 'YYYY-MM-01'\n",
    "df_monthly['ds'] = pd.to_datetime(df_monthly['month_key'].astype(str) + '-01')\n",
    "\n",
    "# Rename total_order to y (Required for Prophet)\n",
    "df_monthly_prophet_revenue = df_monthly.rename(columns={'total_revenue': 'y'})\n",
    "\n",
    "# Pilih kolom ds(month_key), y(total_order) , total_revenue , total_discount\n",
    "df_monthly_prophet_revenue = df_monthly_prophet_revenue[['ds', 'total_order', 'y', 'total_discount']]\n",
    "\n",
    "print(df_monthly_prophet_revenue.head())\n",
    "print(df_monthly_prophet_revenue.info())"
   ]
  },
  {
   "cell_type": "code",
   "execution_count": 39,
   "id": "5ee3da1c-be4a-4907-afe2-3ec974f0e4db",
   "metadata": {},
   "outputs": [
    {
     "name": "stderr",
     "output_type": "stream",
     "text": [
      "18:51:41 - cmdstanpy - INFO - Chain [1] start processing\n",
      "18:51:41 - cmdstanpy - INFO - Chain [1] done processing\n",
      "C:\\Users\\yusuf\\AppData\\Local\\Temp\\ipykernel_6060\\1808755302.py:30: FutureWarning: A value is trying to be set on a copy of a DataFrame or Series through chained assignment using an inplace method.\n",
      "The behavior will change in pandas 3.0. This inplace method will never work because the intermediate object on which we are setting values always behaves as a copy.\n",
      "\n",
      "For example, when doing 'df[col].method(value, inplace=True)', try using 'df.method({col: value}, inplace=True)' or df[col] = df[col].method(value) instead, to perform the operation inplace on the original object.\n",
      "\n",
      "\n",
      "  future_monthly_revenue['total_discount'].fillna(avg_discount, inplace=True)\n"
     ]
    },
    {
     "name": "stdout",
     "output_type": "stream",
     "text": [
      "           ds         yhat   yhat_lower   yhat_upper\n",
      "7  2018-08-01 1,554,757.43 1,549,027.84 1,560,562.83\n",
      "8  2018-09-01 1,554,675.85 1,546,785.82 1,563,411.78\n",
      "9  2018-10-01 1,554,596.90 1,543,630.72 1,566,047.25\n",
      "10 2018-11-01 1,554,515.32 1,540,086.47 1,569,082.97\n",
      "11 2018-12-01 1,554,436.37 1,536,070.11 1,572,094.53\n"
     ]
    },
    {
     "name": "stderr",
     "output_type": "stream",
     "text": [
      "C:\\Users\\yusuf\\AppData\\Local\\Temp\\ipykernel_6060\\1808755302.py:40: UserWarning: FigureCanvasAgg is non-interactive, and thus cannot be shown\n",
      "  fig.show()\n"
     ]
    },
    {
     "data": {
      "image/png": "[encoded data removed]",
      "text/plain": [
       "<Figure size 1000x600 with 1 Axes>"
      ]
     },
     "metadata": {},
     "output_type": "display_data"
    }
   ],
   "source": [
    "# create Prophet's Model\n",
    "m_monthly_revenue = Prophet()\n",
    "\n",
    "# Calculate the period to perform forecasting up to end of year\n",
    "last_date = pd.to_datetime(df_monthly_prophet_order['ds'].max())\n",
    "end_of_year = pd.Timestamp(year=last_date.year,month=12,day=31)\n",
    "forecast_months = (end_of_year.year - last_date.year) * 12 + (end_of_year.month - last_date.month)\n",
    "\n",
    "# Add variable discount as additional regressor\n",
    "m_monthly_revenue.add_regressor('total_discount')\n",
    "\n",
    "# Fit model to the data\n",
    "m_monthly_revenue.fit(df_monthly_prophet_order)\n",
    "\n",
    "# Create a dataframe for predicted period in future (e.g 90 day onwards)\n",
    "future_monthly_revenue = m_monthly_revenue.make_future_dataframe(periods= forecast_months, freq='MS')\n",
    "\n",
    "# Merge historical additional regressor (discount amount) from training to future dataframe based on 'ds'\n",
    "df_monthly_prophet_order['ds'] = pd.to_datetime(df_monthly_prophet_order['ds'])\n",
    "future_monthly_revenue['ds'] = pd.to_datetime(future_monthly_revenue['ds'])\n",
    "\n",
    "future_monthly_revenue = future_monthly_revenue.merge(\n",
    "    df_monthly_prophet_order[['ds', 'total_discount']],\n",
    "    on='ds',\n",
    "    how='left'\n",
    ")\n",
    "\n",
    "# In the future data, the data without discount data will be filled as 0\n",
    "avg_discount = df_monthly_prophet_order['total_discount'].mean()\n",
    "future_monthly_revenue['total_discount'].fillna(avg_discount, inplace=True)\n",
    "\n",
    "# Forecasting\n",
    "future_monthly_revenue = m_monthly_revenue.predict(future_monthly_revenue)\n",
    "\n",
    "# Show the prediction result for few last rows\n",
    "print(future_monthly_revenue[['ds','yhat','yhat_lower','yhat_upper']].tail())\n",
    "\n",
    "# Visualize the predicted result\n",
    "fig = m_monthly_revenue.plot(future_monthly_revenue)\n",
    "fig.show()\n",
    "\n"
   ]
  },
  {
   "cell_type": "markdown",
   "id": "72b2ed8e-06ca-47f6-ad29-c2043436b7fa",
   "metadata": {},
   "source": [
    "### Forecasting - Monthly - Revenue Evaluation Model"
   ]
  },
  {
   "cell_type": "code",
   "execution_count": 42,
   "id": "baec1241-aa75-417a-a20a-c7c1fa36bbc3",
   "metadata": {},
   "outputs": [
    {
     "name": "stdout",
     "output_type": "stream",
     "text": [
      "MAE Monthly Revenue: 77523408.46\n",
      "MAPE Monthly Revenue: 98.03%\n"
     ]
    }
   ],
   "source": [
    "# Parse data to have same data type\n",
    "df_monthly_prophet_revenue['ds'] = pd.to_datetime(df_monthly_prophet_revenue['ds'])\n",
    "future_monthly_revenue['ds'] = pd.to_datetime(future_monthly_revenue['ds'])\n",
    "\n",
    "# Merge data origin with prediction based on data granurality key\n",
    "df_merged_monthly_revenue = df_monthly_prophet_revenue.merge(future_monthly_revenue[['ds','yhat']], on='ds', how='left')\n",
    "\n",
    "# Only data from origin and prediction that will be included (excluding data for future)\n",
    "df_monthly_revenue_eval = df_merged_monthly_revenue[df_merged_monthly_revenue['yhat'].notnull()]\n",
    "\n",
    "# Calculate MAE\n",
    "mae_monthly_revenue = mean_absolute_error(df_monthly_revenue_eval['y'], df_monthly_revenue_eval['yhat'])\n",
    "print(f'MAE Monthly Revenue: {mae_monthly_revenue:.2f}')\n",
    "\n",
    "# Calculate MAPE\n",
    "mape_monthly_revenue = np.mean(np.abs((df_monthly_revenue_eval['y'] - df_monthly_revenue_eval['yhat']) / df_monthly_revenue_eval['y'])) * 100\n",
    "print(f'MAPE Monthly Revenue: {mape_monthly_revenue:.2f}%')\n"
   ]
  },
  {
   "cell_type": "markdown",
   "id": "75046ccd-8974-4d05-9fb2-535ea7a24735",
   "metadata": {},
   "source": [
    "### Forecasting - Monthly - Order & Revenue"
   ]
  },
  {
   "cell_type": "code",
   "execution_count": 43,
   "id": "2d10a9c9-d483-4ce9-990e-174544061e79",
   "metadata": {},
   "outputs": [
    {
     "name": "stdout",
     "output_type": "stream",
     "text": [
      "   period_key   order_yhat  order_yhat_lower  order_yhat_upper  order_trend  \\\n",
      "7  2018-08-01 1,554,757.43      1,547,813.60      1,561,033.73 1,554,757.43   \n",
      "8  2018-09-01 1,554,675.85      1,544,857.51      1,563,786.50 1,554,675.85   \n",
      "9  2018-10-01 1,554,596.90      1,541,456.56      1,566,898.91 1,554,596.90   \n",
      "10 2018-11-01 1,554,515.32      1,537,469.00      1,569,887.82 1,554,515.32   \n",
      "11 2018-12-01 1,554,436.37      1,533,034.30      1,574,103.44 1,554,436.37   \n",
      "\n",
      "    order_trend_lower  order_trend_upper  revenue_yhat  revenue_yhat_lower  \\\n",
      "7        1,547,813.60       1,561,033.73  1,554,757.43        1,549,027.84   \n",
      "8        1,544,857.51       1,563,786.50  1,554,675.85        1,546,785.82   \n",
      "9        1,541,456.56       1,566,898.91  1,554,596.90        1,543,630.72   \n",
      "10       1,537,469.00       1,569,887.82  1,554,515.32        1,540,086.47   \n",
      "11       1,533,034.30       1,574,103.44  1,554,436.37        1,536,070.11   \n",
      "\n",
      "    revenue_yhat_upper  revenue_trend  revenue_trend_lower  \\\n",
      "7         1,560,562.83   1,554,757.43         1,549,027.84   \n",
      "8         1,563,411.78   1,554,675.85         1,546,785.82   \n",
      "9         1,566,047.25   1,554,596.90         1,543,630.72   \n",
      "10        1,569,082.97   1,554,515.32         1,540,086.47   \n",
      "11        1,572,094.53   1,554,436.37         1,536,070.11   \n",
      "\n",
      "    revenue_trend_upper forecast_granularity model_used  \n",
      "7          1,560,562.83     forecast_monthly    prophet  \n",
      "8          1,563,411.79     forecast_monthly    prophet  \n",
      "9          1,566,047.25     forecast_monthly    prophet  \n",
      "10         1,569,082.97     forecast_monthly    prophet  \n",
      "11         1,572,094.53     forecast_monthly    prophet  \n"
     ]
    }
   ],
   "source": [
    "# Data forecasting Order\n",
    "data_export_monthly_order = future_monthly_order[['ds','yhat','yhat_lower','yhat_upper','trend','trend_lower','trend_upper']]\n",
    "\n",
    "# Data forecasting Revenue\n",
    "data_export_monthly_revenue = future_monthly_revenue[['ds','yhat','yhat_lower','yhat_upper','trend','trend_lower','trend_upper']]\n",
    "\n",
    "\n",
    "# Rename 'ds' to 'date_key'\n",
    "data_export_monthly_order = data_export_monthly_order.rename(columns={'ds': 'period_key'})\n",
    "data_export_monthly_revenue = data_export_monthly_revenue.rename(columns={'ds': 'period_key'})\n",
    "\n",
    "# Adding prefix to each column aside 'date_key' column\n",
    "order_cols = [col for col in data_export_monthly_order.columns if col != 'period_key']\n",
    "data_export_monthly_order = data_export_monthly_order.rename(columns={col: 'order_' + col for col in order_cols})\n",
    "\n",
    "revenue_cols = [col for col in data_export_monthly_revenue.columns if col != 'period_key']\n",
    "data_export_monthly_revenue = data_export_monthly_revenue.rename(columns={col: 'revenue_' + col for col in revenue_cols})\n",
    "\n",
    "# Convert date_key have datetime data_type\n",
    "data_export_monthly_order['period_key'] = pd.to_datetime(data_export_monthly_order['period_key'])\n",
    "data_export_monthly_revenue['period_key'] = pd.to_datetime(data_export_monthly_revenue['period_key'])\n",
    "\n",
    "# Combined daily forecast order and forecast revenue\n",
    "data_export_forecast_monthly = pd.merge(data_export_monthly_order, data_export_monthly_revenue, on='period_key', how='outer')\n",
    "\n",
    "# Add additional column for data labeling period\n",
    "data_export_forecast_monthly['forecast_granularity'] = 'forecast_monthly'\n",
    "data_export_forecast_monthly['model_used'] = 'prophet'\n",
    "\n",
    "# Check the result\n",
    "print(data_export_forecast_monthly.tail())\n"
   ]
  },
  {
   "cell_type": "markdown",
   "id": "32197611-6dce-46e4-8c5e-2abeab5123cf",
   "metadata": {},
   "source": [
    "### Push Data to Database"
   ]
  },
  {
   "cell_type": "code",
   "execution_count": 45,
   "id": "3eb4d923-8eb2-4bf6-b3b0-b317dd3cedd4",
   "metadata": {},
   "outputs": [
    {
     "name": "stdout",
     "output_type": "stream",
     "text": [
      "Data has been sucessfully push to database: ct_groceries_forecast_result\n"
     ]
    }
   ],
   "source": [
    "# Table target\n",
    "table_name = 'ct_groceries_forecast_result'\n",
    "\n",
    "# Push data to MySQL\n",
    "data_export_forecast_monthly.to_sql (\n",
    "    name=table_name, \n",
    "    con=engine,\n",
    "    if_exists='append',\n",
    "    index=False\n",
    ")\n",
    "print(\"Data has been sucessfully push to database:\", table_name)"
   ]
  },
  {
   "cell_type": "code",
   "execution_count": null,
   "id": "82932cc2-b48f-4334-90dc-26b425146613",
   "metadata": {},
   "outputs": [],
   "source": []
  }
 ],
 "metadata": {
  "kernelspec": {
   "display_name": "Python 3 (ipykernel)",
   "language": "python",
   "name": "python3"
  },
  "language_info": {
   "codemirror_mode": {
    "name": "ipython",
    "version": 3
   },
   "file_extension": ".py",
   "mimetype": "text/x-python",
   "name": "python",
   "nbconvert_exporter": "python",
   "pygments_lexer": "ipython3",
   "version": "3.13.3"
  }
 },
 "nbformat": 4,
 "nbformat_minor": 5
}
